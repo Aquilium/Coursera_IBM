{
 "cells": [
  {
   "cell_type": "markdown",
   "id": "62fa4555-79cc-415b-816b-d4350ef2591c",
   "metadata": {},
   "source": [
    "# Data Science Tools and Ecosystem\n",
    "\n",
    "In this notebook, Data Science Tools and Ecosystem are summarized."
   ]
  },
  {
   "cell_type": "markdown",
   "id": "ff0a8d0f-bab8-484e-88c1-2313b82c8f0a",
   "metadata": {},
   "source": [
    "**Objectives:**\n",
    "- List of popular languages in data science\n",
    "- List of commonly used libraries in data science\n",
    "- Some Open-Scource development environments\n",
    "- Couple ways of executing arithmetics"
   ]
  },
  {
   "cell_type": "markdown",
   "id": "1068dfc5-a773-4448-9ce0-5439d563406a",
   "metadata": {},
   "source": [
    "Some of the popular languages that Data Scientists use are:\n",
    "\n",
    "    1. Python\n",
    "    2. R\n",
    "    3. SQL\n",
    "    4. Scala\n",
    "    5. C++\n",
    "    6. Julia\n",
    "    7. Java\n",
    "    8. JavaScript\n",
    "    9. Ruby\n",
    "    "
   ]
  },
  {
   "cell_type": "markdown",
   "id": "97f41bb4-7bfa-49d0-8579-428f559fd675",
   "metadata": {},
   "source": [
    "Some of the commonly used libraries used by Data Scientists include:\n",
    "    \n",
    "    1. Pandas\n",
    "    2. NumPy\n",
    "    3. Mathplotlib\n",
    "    4. Seaborn\n",
    "    5. Scikit-learn\n",
    "    6. Keras\n",
    "    7. TenserFlow\n",
    "    8. PyTorch"
   ]
  },
  {
   "cell_type": "markdown",
   "id": "b6797949-6295-481e-b1a6-411bce87e7dc",
   "metadata": {},
   "source": [
    "|Data Science Tools|\n",
    "|---|\n",
    "|Jupyter Lab|\n",
    "|RStudio|\n",
    "|Visual Studio Code|"
   ]
  },
  {
   "cell_type": "markdown",
   "id": "c48bd037-a59d-4505-94f0-88f0420fd570",
   "metadata": {},
   "source": [
    "### Below are a few examples of evaluating arithmetic expressions in Python"
   ]
  },
  {
   "cell_type": "code",
   "execution_count": 1,
   "id": "3aa46d98-c0ca-435a-be22-982c20b12d55",
   "metadata": {},
   "outputs": [
    {
     "data": {
      "text/plain": [
       "17"
      ]
     },
     "execution_count": 1,
     "metadata": {},
     "output_type": "execute_result"
    }
   ],
   "source": [
    "# This a simple arithmetic expression to mutiply then add integers\n",
    "\n",
    "(3*4)+5"
   ]
  },
  {
   "cell_type": "code",
   "execution_count": 5,
   "id": "d754833c-8c9b-4eba-a5f3-b9e218bbfbe4",
   "metadata": {},
   "outputs": [
    {
     "name": "stdout",
     "output_type": "stream",
     "text": [
      "200 minutes are 3.3 hours\n"
     ]
    }
   ],
   "source": [
    "# This will convert 200 minutes to hours by diving by 60\n",
    "\n",
    "h = 60\n",
    "m = 200\n",
    "\n",
    "hours = m/h\n",
    "\n",
    "print(m, \"minutes are\", \"%.1f\" % hours, \"hours\")"
   ]
  },
  {
   "cell_type": "markdown",
   "id": "a8fc3929-3025-4dc6-883c-02db3edcc4f3",
   "metadata": {},
   "source": [
    "## Author:\n",
    "Matthew Gyorgydeak"
   ]
  },
  {
   "cell_type": "code",
   "execution_count": null,
   "id": "f4220bb1-e1ad-4743-9516-40d74bdc9968",
   "metadata": {},
   "outputs": [],
   "source": []
  }
 ],
 "metadata": {
  "kernelspec": {
   "display_name": "Python 3",
   "language": "python",
   "name": "python3"
  },
  "language_info": {
   "codemirror_mode": {
    "name": "ipython",
    "version": 3
   },
   "file_extension": ".py",
   "mimetype": "text/x-python",
   "name": "python",
   "nbconvert_exporter": "python",
   "pygments_lexer": "ipython3",
   "version": "3.8.8"
  }
 },
 "nbformat": 4,
 "nbformat_minor": 5
}
